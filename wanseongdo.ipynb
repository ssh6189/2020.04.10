{
 "cells": [
  {
   "cell_type": "code",
   "execution_count": 1,
   "metadata": {},
   "outputs": [],
   "source": [
    "#pickachu\n",
    "import cv2\n",
    "import time\n",
    "import numpy as np\n",
    "\n",
    "logo = cv2.imread(\"./pick.png\")\n",
    "\n",
    "#logo = cv2.resize(logo, (275,183))\n",
    "\n",
    "logo_height, logo_width, _ = logo.shape\n",
    "\n",
    "cap = cv2.VideoCapture(0)\n",
    "\n",
    "#cap_height = cv2.CAP_PROP_FRAME_HEIGHT\n",
    "#cap_width =  cv2.CAP_PROP_FRAME_WIDTH\n",
    "\n",
    "time.sleep(3) #warming up\n",
    "if not cap.isOpened():\n",
    "    exit()\n",
    "\n",
    "face_cascade = cv2.CascadeClassifier(cv2.data.haarcascades + 'haarcascade_frontalface_default.xml')\n",
    "\n",
    "while True:\n",
    "    ret, image = cap.read()\n",
    "\n",
    "    if not ret:\n",
    "        break\n",
    "\n",
    "    faces = face_cascade.detectMultiScale(image)\n",
    "    for face in faces:\n",
    "        (x, y, w, h) = face\n",
    "        x1, y1, x2, y2 = x, y, x + w, y + h\n",
    "        #cv2.rectangle(image, (x1, y1), (x2, y2), (0, 0, 255), thickness=2)\n",
    "\n",
    "        image_face = image[y1:y2, x1:x2]\n",
    "        #logo = cv2.resize(logo, (y1-y2, x1-x2))\n",
    "        #image_face = logo[y1:y2, x1:x2]\n",
    "        image_face = cv2.resize(logo, (w, h))\n",
    "        image_face = cv2.resize(image_face, (w, h), interpolation=cv2.INTER_AREA)\n",
    "        image[y1:y2, x1:x2] = image_face\n",
    "        \n",
    "        #image = cv2.add(image, logo)\n",
    "        \n",
    "        cv2.imshow(\"result\", image)\n",
    "\n",
    "    if cv2.waitKey(1) == ord('q'):\n",
    "        break\n",
    "\n",
    "cap.release()\n",
    "cv2.destroyAllWindows()"
   ]
  }
 ],
 "metadata": {
  "kernelspec": {
   "display_name": "Python 3",
   "language": "python",
   "name": "python3"
  },
  "language_info": {
   "codemirror_mode": {
    "name": "ipython",
    "version": 3
   },
   "file_extension": ".py",
   "mimetype": "text/x-python",
   "name": "python",
   "nbconvert_exporter": "python",
   "pygments_lexer": "ipython3",
   "version": "3.7.7"
  }
 },
 "nbformat": 4,
 "nbformat_minor": 4
}
